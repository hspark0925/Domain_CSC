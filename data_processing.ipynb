{
 "cells": [
  {
   "cell_type": "code",
   "execution_count": 2,
   "metadata": {},
   "outputs": [],
   "source": [
    "import json"
   ]
  },
  {
   "cell_type": "code",
   "execution_count": 3,
   "metadata": {},
   "outputs": [],
   "source": [
    "def json_read(file_path):\n",
    "    with open(file_path, 'r', encoding=\"utf-8\") as f:\n",
    "        return json.load(f)\n",
    "\n",
    "def json_write(file_path, data):\n",
    "    with open(file_path, 'w') as f:\n",
    "        json.dump(data, f, ensure_ascii=False, indent=4)"
   ]
  },
  {
   "cell_type": "code",
   "execution_count": 8,
   "metadata": {},
   "outputs": [
    {
     "name": "stdout",
     "output_type": "stream",
     "text": [
      "Data split and saved successfully!\n"
     ]
    }
   ],
   "source": [
    "import pandas as pd\n",
    "from sklearn.model_selection import train_test_split\n",
    "\n",
    "data_dir = \"./dataset/\"\n",
    "# Load your dataset\n",
    "data = json_read(data_dir+\"instruction_with_instances.json\")\n",
    "# Convert JSON data to DataFrame for easier splitting\n",
    "df = pd.DataFrame(data)\n",
    "\n",
    "# Shuffle and split the data (70% train, 15% validation, 15% test)\n",
    "train_data, temp_data = train_test_split(df, test_size=0.30, random_state=42, shuffle=True)\n",
    "val_data, test_data = train_test_split(temp_data, test_size=0.50, random_state=42, shuffle=True)\n",
    "\n",
    "train_data = train_data.to_dict(orient=\"records\")\n",
    "val_data = val_data.to_dict(orient=\"records\")\n",
    "test_data = test_data.to_dict(orient=\"records\")\n",
    "\n",
    "# Convert DataFrame back to JSON and save the split datasets\n",
    "json_write(data_dir+\"dcsc_train.json\", train_data)\n",
    "json_write(data_dir+\"dcsc_dev.json\", val_data)\n",
    "json_write(data_dir+\"dcsc_test.json\", test_data)\n",
    "\n",
    "print(\"Data split and saved successfully!\")\n"
   ]
  },
  {
   "cell_type": "code",
   "execution_count": 6,
   "metadata": {},
   "outputs": [],
   "source": [
    "json_write(\"./dataset/results/baichuan/inference_result.json\", data)"
   ]
  },
  {
   "cell_type": "code",
   "execution_count": 10,
   "metadata": {},
   "outputs": [
    {
     "name": "stdout",
     "output_type": "stream",
     "text": [
      "2.0.1\n",
      "True\n",
      "11.7\n"
     ]
    }
   ],
   "source": [
    "import torch\n",
    "print(torch.__version__)\n",
    "print(torch.cuda.is_available())\n",
    "print(torch.version.cuda)  # Should match 11.7\n"
   ]
  },
  {
   "cell_type": "code",
   "execution_count": 5,
   "metadata": {},
   "outputs": [],
   "source": [
    "import re\n",
    "\n",
    "path = \"./dataset/results/qwen/inference_result.json\"\n",
    "\n",
    "data = json_read(path)\n",
    "for line in data:\n",
    "    clean_input = re.sub(r'\\s+', '', line[\"input\"]).replace('.', '。').replace('：', ':').replace('，',',')\n",
    "    clean_output = re.sub(r'\\s+', '', line[\"output\"]).replace('.', '。').replace('：', ':').replace('，',',')\n",
    "    clean_prediction = re.sub(r'\\s+', '', line[\"extracted_prediction\"]).replace('.', '。').replace('：', ':').replace('，',',')\n",
    "    \n",
    "    line[\"input\"] = clean_input\n",
    "    line[\"output\"] = clean_output\n",
    "    line[\"extracted_prediction\"] = clean_prediction\n"
   ]
  },
  {
   "cell_type": "code",
   "execution_count": 6,
   "metadata": {},
   "outputs": [],
   "source": [
    "json_write(path, data)"
   ]
  }
 ],
 "metadata": {
  "kernelspec": {
   "display_name": "env",
   "language": "python",
   "name": "python3"
  },
  "language_info": {
   "codemirror_mode": {
    "name": "ipython",
    "version": 3
   },
   "file_extension": ".py",
   "mimetype": "text/x-python",
   "name": "python",
   "nbconvert_exporter": "python",
   "pygments_lexer": "ipython3",
   "version": "3.10.13"
  }
 },
 "nbformat": 4,
 "nbformat_minor": 2
}
